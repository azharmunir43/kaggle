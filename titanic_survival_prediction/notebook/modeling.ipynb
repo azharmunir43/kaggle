{
 "cells": [
  {
   "cell_type": "markdown",
   "metadata": {},
   "source": [
    "# Model Building & Applying"
   ]
  },
  {
   "cell_type": "code",
   "execution_count": 1,
   "metadata": {},
   "outputs": [],
   "source": [
    "import numpy as np\n",
    "import pandas as pd\n",
    "import matplotlib.pyplot as plt\n",
    "import seaborn as sns\n",
    "pd.set_option('display.max_rows', None)\n",
    "pd.set_option('display.max_columns', None)\n",
    "\n",
    "import warnings\n",
    "import os\n",
    "import dill as pickle\n",
    "import pandas as pd\n",
    "from sklearn.metrics import accuracy_score\n",
    "from sklearn.base import BaseEstimator, TransformerMixin\n",
    "from xgboost import XGBClassifier\n",
    "from sklearn.model_selection import GridSearchCV, train_test_split\n",
    "from sklearn.pipeline import make_pipeline\n",
    "warnings.filterwarnings(\"ignore\")"
   ]
  },
  {
   "cell_type": "code",
   "execution_count": 2,
   "metadata": {},
   "outputs": [],
   "source": [
    "class PreProcessing(BaseEstimator, TransformerMixin):\n",
    "\n",
    "    def __init__(self):\n",
    "        pass\n",
    "\n",
    "    def transform(self, df):\n",
    "\n",
    "        feature_vector = ['Pclass', 'Sex', 'Age', 'Embarked', 'Cabin_', 'NameLength', 'familySize', 'isAlone', 'fareGroup']\n",
    "        self.impute_missing_values(df)\n",
    "        df['Pclass'] = df['Pclass'].astype(int)\n",
    "        df['Age'] = df['Age'].astype(int)\n",
    "        df['SibSp'] = df['SibSp'].astype(int)\n",
    "        df['Parch'] = df['Parch'].astype(int)\n",
    "        df['fareGroup'] = pd.cut(df.Fare, bins = 4, labels=[1,2,3,4]).astype(int)\n",
    "        df['Cabin_'] = df['Cabin'].apply(lambda x: 0 if x is np.nan else 1).astype(int)\n",
    "        df['NameLength'] = df['Name'].apply(len).astype(int)\n",
    "        df['familySize'] = (df['SibSp'] + df['Parch'] + 1).astype(int)\n",
    "        df['isAlone'] = df['familySize'].apply(lambda x: 1 if x == 1 else 0).astype(int)\n",
    "        df = df[feature_vector]\n",
    "\n",
    "        sex_values = {'female': 0, 'male': 1}\n",
    "        embarked_values = {'S': 0, 'C': 1, 'Q': 2}\n",
    "        df.replace({'Sex': sex_values, 'Embarked': embarked_values}, inplace=True)\n",
    "\n",
    "        return df.as_matrix()\n",
    "\n",
    "    def fit(self, df, y=None, **fit_params):\n",
    "        return self\n",
    "    \n",
    "    def impute_missing_values(self, df):\n",
    "        df['Age'] = df['Age'].apply(self.impute_age)\n",
    "        df['Embarked'] = df['Embarked'].fillna('S')\n",
    "        pass\n",
    "    \n",
    "    def impute_age(self, x):\n",
    "        from random import randint\n",
    "        from math import isnan\n",
    "        if isnan(x):\n",
    "            imputation_tray = [24, 28, 29]\n",
    "            return imputation_tray[randint(0,2)]\n",
    "        else:\n",
    "            return x\n",
    "\n",
    "\n",
    "# if __name__ == '__main__':\n",
    "#     print(os.path.dirname(os.path.abspath(__file__)))\n",
    "#     model = build_and_train()\n",
    "\n",
    "#     filename = 'model_v1.pk'\n",
    "#     with open('D:\\Workplace\\Self\\Django\\Insightish\\media' + filename, 'wb') as file:\n",
    "#         pickle.dump(model, file)\n"
   ]
  },
  {
   "cell_type": "code",
   "execution_count": 3,
   "metadata": {},
   "outputs": [],
   "source": [
    "def build_model():\n",
    "    data = pd.read_csv(r'.\\Data\\train_processed.csv')\n",
    "\n",
    "    feature_vector = ['Pclass', 'Sex', 'Age', 'SibSp', 'Parch', 'Embarked', 'Cabin', 'Fare', 'Name']\n",
    "    X_train = data[feature_vector]\n",
    "    y_train = data['Survived']\n",
    "\n",
    "    X_train, X_test, y_train, y_test = train_test_split(X_train, y_train, test_size=0.20, random_state = 0)\n",
    "\n",
    "    pipe = make_pipeline(PreProcessing(),\n",
    "                         XGBClassifier())\n",
    "\n",
    "    param_grid = {'xgbclassifier__max_depth': [2, 3, 6, 8],\n",
    "                  'xgbclassifier__min_child_weight': [2, 3, 5, 8],\n",
    "                  'xgbclassifier__subsample': [0.8, 0.9, 1.0],\n",
    "                  'xgbclassifier__colsample_bytree': [0.5, 0.6],\n",
    "                  'xgbclassifier__n_estimators': [100, 150, 200, 300]}\n",
    "    grid = GridSearchCV(pipe, param_grid=param_grid, cv=3, n_jobs=-1)\n",
    "    grid.fit(X_train, y_train)\n",
    "    \n",
    "#     return grid.best_estimator_\n",
    "    model = grid.best_estimator_\n",
    "    y_pred = model.predict(X_test)\n",
    "\n",
    "    print(accuracy_score(y_test, y_pred))\n",
    "    return y_test, y_pred\n"
   ]
  },
  {
   "cell_type": "code",
   "execution_count": 4,
   "metadata": {},
   "outputs": [
    {
     "name": "stdout",
     "output_type": "stream",
     "text": [
      "0.8379888268156425\n"
     ]
    }
   ],
   "source": [
    "y_test, y_pred = build_model()"
   ]
  },
  {
   "cell_type": "code",
   "execution_count": 19,
   "metadata": {},
   "outputs": [
    {
     "data": {
      "text/plain": [
       "(179,)"
      ]
     },
     "execution_count": 19,
     "metadata": {},
     "output_type": "execute_result"
    }
   ],
   "source": [
    "y_test.shape"
   ]
  },
  {
   "cell_type": "code",
   "execution_count": 10,
   "metadata": {},
   "outputs": [],
   "source": [
    "results = pd.DataFrame({'Actual':y_test, 'Predicted':y_pred})"
   ]
  },
  {
   "cell_type": "code",
   "execution_count": 20,
   "metadata": {},
   "outputs": [
    {
     "data": {
      "image/png": "[encoded data removed]",
      "text/plain": [
       "<Figure size 432x288 with 1 Axes>"
      ]
     },
     "metadata": {
      "needs_background": "light"
     },
     "output_type": "display_data"
    }
   ],
   "source": [
    "# fig = plt.figure(num=None, figsize=(12, 8), dpi=100, facecolor='w', edgecolor='k')\n",
    "\n",
    "ax = sns.countplot(x = 'Actual', data=results, hue='Predicted')\n",
    "sns.despine()\n",
    "title = \"Results - Actual vs Predicted\"\n",
    "for p in ax.patches:\n",
    "    height = p.get_height()\n",
    "    if not np.isnan(height):\n",
    "        ax.text(p.get_x() + p.get_width() / 2.,\n",
    "                height + .12,\n",
    "                '{:1.0f}'.format(height),\n",
    "                ha=\"center\",\n",
    "                fontsize=12,\n",
    "                family='sans-serif')\n",
    "plt.title(title)\n",
    "plt.savefig(r'.\\Media\\\\' + title + '.png')"
   ]
  },
  {
   "cell_type": "code",
   "execution_count": 5,
   "metadata": {},
   "outputs": [],
   "source": [
    "# test_df = pd.read_csv(r'.\\Data\\test.csv')\n",
    "\n",
    "# test_df['Survived'] = model.predict(test_df[['Pclass', 'Sex', 'Age', 'SibSp', 'Parch', 'Embarked', 'Cabin', 'Fare', 'Name']])\n",
    "\n",
    "# test_df[['PassengerId', 'Survived']].to_csv(r'.\\Data\\xgb_submission.csv', index=False)"
   ]
  }
 ],
 "metadata": {
  "kernelspec": {
   "display_name": "Python 3",
   "language": "python",
   "name": "python3"
  },
  "language_info": {
   "codemirror_mode": {
    "name": "ipython",
    "version": 3
   },
   "file_extension": ".py",
   "mimetype": "text/x-python",
   "name": "python",
   "nbconvert_exporter": "python",
   "pygments_lexer": "ipython3",
   "version": "3.6.8"
  }
 },
 "nbformat": 4,
 "nbformat_minor": 2
}
